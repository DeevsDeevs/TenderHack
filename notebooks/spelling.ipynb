{
  "nbformat": 4,
  "nbformat_minor": 0,
  "metadata": {
    "colab": {
      "provenance": [],
      "collapsed_sections": []
    },
    "kernelspec": {
      "name": "python3",
      "display_name": "Python 3"
    }
  },
  "cells": [
    {
      "cell_type": "code",
      "metadata": {
        "id": "CZJKcGFUXboA"
      },
      "source": [
        "!sudo apt-get install swig\n",
        "!sudo pip install jamspell"
      ],
      "execution_count": null,
      "outputs": []
    },
    {
      "cell_type": "markdown",
      "metadata": {
        "id": "uHwpolmcYXew"
      },
      "source": [
        "**Do restart Colab**\n"
      ]
    },
    {
      "cell_type": "code",
      "source": [
        "!git clone https://github.com/bakwc/JamSpell.git\n",
        "%cd JamSpell\n",
        "!mkdir build\n",
        "%cd build\n",
        "!cmake ..\n",
        "!make"
      ],
      "metadata": {
        "id": "oOOnY-8qMy_t"
      },
      "execution_count": null,
      "outputs": []
    },
    {
      "cell_type": "code",
      "source": [
        "!gdown --fuzzy --folder https://drive.google.com/drive/folders/1XwjWRA6fcqfiTuxHhr88KoSjKISyI4sp?usp=sharing"
      ],
      "metadata": {
        "id": "XS6lC6y-O9n9"
      },
      "execution_count": null,
      "outputs": []
    },
    {
      "cell_type": "code",
      "source": [
        "import pandas as pd"
      ],
      "metadata": {
        "id": "HUgcGb_xPMDw"
      },
      "execution_count": 5,
      "outputs": []
    },
    {
      "cell_type": "code",
      "source": [
        "goods = pd.read_feather(\"tender hack/goods.feather\")"
      ],
      "metadata": {
        "id": "rqiaxTEzPYRJ"
      },
      "execution_count": 6,
      "outputs": []
    },
    {
      "cell_type": "code",
      "source": [
        "with open(\"train.txt\", \"w\", encoding=\"utf-8\") as f:\n",
        "    f.writelines(goods[\"Название СТЕ\"].to_list())"
      ],
      "metadata": {
        "id": "X-pEX3StPd1s"
      },
      "execution_count": 7,
      "outputs": []
    },
    {
      "cell_type": "code",
      "source": [
        "with open(\"alphabet.txt\", \"w\", encoding=\"utf-8\") as f:\n",
        "    f.write(\"abcdefghijklmnopqrstuvwxyzабвгдеёжзийклмнопрстуфхцчшщъыьэюя\")"
      ],
      "metadata": {
        "id": "X7Im1VsmQcHb"
      },
      "execution_count": 8,
      "outputs": []
    },
    {
      "cell_type": "code",
      "source": [
        "! ./main/jamspell train alphabet.txt train.txt model_ru_en.bin"
      ],
      "metadata": {
        "colab": {
          "base_uri": "https://localhost:8080/"
        },
        "id": "5pHDnR-tPit-",
        "outputId": "46f6c426-0a29-4ff7-9ef0-16b998ecc940"
      },
      "execution_count": 9,
      "outputs": [
        {
          "output_type": "stream",
          "name": "stdout",
          "text": [
            "[info] loading text\n",
            "[info] generating N-grams 103328\n",
            "[info] generating keys\n",
            "[info] ngrams1: 271784\n",
            "[info] ngrams2: 934836\n",
            "[info] ngrams3: 1309769\n",
            "[info] total: 2516389\n",
            "[info] generating perf hash\n",
            "[info] finished, buckets: 3145487\n",
            "[info] buckets filled\n"
          ]
        }
      ]
    },
    {
      "cell_type": "code",
      "source": [
        "%cd /content/JamSpell"
      ],
      "metadata": {
        "colab": {
          "base_uri": "https://localhost:8080/"
        },
        "id": "Jbw8-YcCSxbG",
        "outputId": "fcd9e936-bc4a-4ab0-be76-6ac28742e82e"
      },
      "execution_count": 10,
      "outputs": [
        {
          "output_type": "stream",
          "name": "stdout",
          "text": [
            "/content/JamSpell\n"
          ]
        }
      ]
    },
    {
      "cell_type": "code",
      "source": [
        "!python evaluate/evaluate.py -a build/alphabet.txt -jsp build/model_ru_en.bin -mx 50000 build/train.txt"
      ],
      "metadata": {
        "colab": {
          "base_uri": "https://localhost:8080/"
        },
        "id": "F-kYCdM-Sye-",
        "outputId": "321b682f-f25a-445a-e1f8-fe560c333462"
      },
      "execution_count": 11,
      "outputs": [
        {
          "output_type": "stream",
          "name": "stdout",
          "text": [
            "[info] loading models\n",
            "[info] loading text\n",
            "[info] generating typos\n",
            "[info] total words: 2222866\n",
            "[info] evaluating\n",
            "[debug] jamspell: processed 21.82%, error rate: 1.04%\n",
            "[debug] jamspell: processed 45.52%, error rate: 0.94%\n",
            "[debug] jamspell: processed 68.62%, error rate: 0.84%\n",
            "[debug] jamspell: processed 91.16%, error rate: 0.82%\n",
            "\n",
            "[info]               errRate   fixRate    broken   topNerr   topNfix      time\n",
            "[info]   jamspell      0.83%    94.95%     0.00%     0.56%    95.20%    17.13s\n",
            "[info]      dummy     16.35%     0.00%     0.00%    16.35%     0.00%     0.03s\n"
          ]
        }
      ]
    },
    {
      "cell_type": "code",
      "source": [
        "%cd /content/"
      ],
      "metadata": {
        "id": "2IEjffLsg9Dh"
      },
      "execution_count": null,
      "outputs": []
    },
    {
      "cell_type": "code",
      "source": [
        "import jamspell\n",
        "jsp = jamspell.TSpellCorrector()\n",
        "assert jsp.LoadLangModel('JamSpell/build/model_ru_en.bin')\n",
        "\n",
        "jsp.FixFragment(\"капста морсаая\")"
      ],
      "metadata": {
        "id": "gNvqFW-HTlDc"
      },
      "execution_count": null,
      "outputs": []
    }
  ]
}